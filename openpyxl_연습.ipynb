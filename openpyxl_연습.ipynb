{
  "nbformat": 4,
  "nbformat_minor": 0,
  "metadata": {
    "colab": {
      "name": "openpyxl_연습.ipynb",
      "provenance": [],
      "collapsed_sections": [],
      "authorship_tag": "ABX9TyNjYcttdPBjOJQTr2RetF+7",
      "include_colab_link": true
    },
    "kernelspec": {
      "name": "python3",
      "display_name": "Python 3"
    },
    "language_info": {
      "name": "python"
    }
  },
  "cells": [
    {
      "cell_type": "markdown",
      "metadata": {
        "id": "view-in-github",
        "colab_type": "text"
      },
      "source": [
        "<a href=\"https://colab.research.google.com/github/slayerzeroa/black_scholes_model_excel/blob/main/openpyxl_%EC%97%B0%EC%8A%B5.ipynb\" target=\"_parent\"><img src=\"https://colab.research.google.com/assets/colab-badge.svg\" alt=\"Open In Colab\"/></a>"
      ]
    },
    {
      "cell_type": "code",
      "metadata": {
        "colab": {
          "base_uri": "https://localhost:8080/"
        },
        "id": "aKAzhxdHb-G8",
        "outputId": "da5f27bc-66af-4f71-c00c-72906f84a50b"
      },
      "source": [
        "!pip install openpyxl\n",
        "\n",
        "# 파이썬 프로그램일땐 ! -> #"
      ],
      "execution_count": null,
      "outputs": [
        {
          "output_type": "stream",
          "text": [
            "Requirement already satisfied: openpyxl in /usr/local/lib/python3.7/dist-packages (2.5.9)\n",
            "Requirement already satisfied: jdcal in /usr/local/lib/python3.7/dist-packages (from openpyxl) (1.4.1)\n",
            "Requirement already satisfied: et-xmlfile in /usr/local/lib/python3.7/dist-packages (from openpyxl) (1.1.0)\n"
          ],
          "name": "stdout"
        }
      ]
    },
    {
      "cell_type": "code",
      "metadata": {
        "id": "661dKW4YbSQl"
      },
      "source": [
        "import pandas as pd\n",
        "import numpy as np\n",
        "from google.colab import files\n",
        "import scipy.stats as stat\n",
        "import openpyxl\n",
        "\n",
        "# 파이썬 프로그램일땐 세번째 줄 삭제"
      ],
      "execution_count": null,
      "outputs": []
    },
    {
      "cell_type": "code",
      "metadata": {
        "colab": {
          "resources": {
            "http://localhost:8080/nbextensions/google.colab/files.js": {
              "data": "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",
              "ok": true,
              "headers": [
                [
                  "content-type",
                  "application/javascript"
                ]
              ],
              "status": 200,
              "status_text": ""
            }
          },
          "base_uri": "https://localhost:8080/",
          "height": 75
        },
        "id": "Elrm4qhnnp6O",
        "outputId": "0ad96026-1a80-484a-8eb2-52800783d98c"
      },
      "source": [
        "uploaded = files.upload()\n",
        "\n",
        "# 파이썬 프로그램일땐 삭제"
      ],
      "execution_count": 46,
      "outputs": [
        {
          "output_type": "display_data",
          "data": {
            "text/html": [
              "\n",
              "     <input type=\"file\" id=\"files-df2563ef-f6b4-4ff2-abf5-8c012c60fa32\" name=\"files[]\" multiple disabled\n",
              "        style=\"border:none\" />\n",
              "     <output id=\"result-df2563ef-f6b4-4ff2-abf5-8c012c60fa32\">\n",
              "      Upload widget is only available when the cell has been executed in the\n",
              "      current browser session. Please rerun this cell to enable.\n",
              "      </output>\n",
              "      <script src=\"/nbextensions/google.colab/files.js\"></script> "
            ],
            "text/plain": [
              "<IPython.core.display.HTML object>"
            ]
          },
          "metadata": {
            "tags": []
          }
        },
        {
          "output_type": "stream",
          "text": [
            "Saving optiondata.xlsx to optiondata.xlsx\n"
          ],
          "name": "stdout"
        }
      ]
    },
    {
      "cell_type": "code",
      "metadata": {
        "id": "v15CE0VMcOeP"
      },
      "source": [
        "wb = openpyxl.load_workbook('optiondata.xlsx')\n",
        "wb['Sheet1']\n",
        "sheet = wb.active"
      ],
      "execution_count": 47,
      "outputs": []
    },
    {
      "cell_type": "code",
      "metadata": {
        "colab": {
          "base_uri": "https://localhost:8080/",
          "height": 35
        },
        "id": "w5fzjB1pcYpv",
        "outputId": "cb6457b7-f49a-4c20-cf64-d7801f021df5"
      },
      "source": [
        "A1 = sheet['A1']\n",
        "A1.value"
      ],
      "execution_count": 48,
      "outputs": [
        {
          "output_type": "execute_result",
          "data": {
            "application/vnd.google.colaboratory.intrinsic+json": {
              "type": "string"
            },
            "text/plain": [
              "'무위험이자율'"
            ]
          },
          "metadata": {
            "tags": []
          },
          "execution_count": 48
        }
      ]
    },
    {
      "cell_type": "code",
      "metadata": {
        "id": "3YoFhwwreqNy"
      },
      "source": [
        "option_data = pd.read_excel('optiondata.xlsx')"
      ],
      "execution_count": 49,
      "outputs": []
    },
    {
      "cell_type": "code",
      "metadata": {
        "colab": {
          "base_uri": "https://localhost:8080/",
          "height": 819
        },
        "id": "08kJoPBkex9m",
        "outputId": "6214c55d-5c3b-41c7-bf17-3420b4b3cd9c"
      },
      "source": [
        "option_data"
      ],
      "execution_count": 50,
      "outputs": [
        {
          "output_type": "execute_result",
          "data": {
            "text/html": [
              "<div>\n",
              "<style scoped>\n",
              "    .dataframe tbody tr th:only-of-type {\n",
              "        vertical-align: middle;\n",
              "    }\n",
              "\n",
              "    .dataframe tbody tr th {\n",
              "        vertical-align: top;\n",
              "    }\n",
              "\n",
              "    .dataframe thead th {\n",
              "        text-align: right;\n",
              "    }\n",
              "</style>\n",
              "<table border=\"1\" class=\"dataframe\">\n",
              "  <thead>\n",
              "    <tr style=\"text-align: right;\">\n",
              "      <th></th>\n",
              "      <th>무위험이자율</th>\n",
              "      <th>행사가격</th>\n",
              "      <th>기초자산의 변동성</th>\n",
              "      <th>기초자산의 가격</th>\n",
              "      <th>만기시점</th>\n",
              "      <th>현재시점</th>\n",
              "      <th>T</th>\n",
              "      <th>option_type</th>\n",
              "    </tr>\n",
              "  </thead>\n",
              "  <tbody>\n",
              "    <tr>\n",
              "      <th>0</th>\n",
              "      <td>0.05</td>\n",
              "      <td>14</td>\n",
              "      <td>0.200</td>\n",
              "      <td>10</td>\n",
              "      <td>2022-05-01</td>\n",
              "      <td>2021-07-25</td>\n",
              "      <td>0.767123</td>\n",
              "      <td>\"call\"</td>\n",
              "    </tr>\n",
              "    <tr>\n",
              "      <th>1</th>\n",
              "      <td>0.10</td>\n",
              "      <td>12</td>\n",
              "      <td>0.030</td>\n",
              "      <td>10</td>\n",
              "      <td>2022-01-01</td>\n",
              "      <td>2021-07-25</td>\n",
              "      <td>0.438356</td>\n",
              "      <td>\"call\"</td>\n",
              "    </tr>\n",
              "    <tr>\n",
              "      <th>2</th>\n",
              "      <td>0.04</td>\n",
              "      <td>100</td>\n",
              "      <td>0.300</td>\n",
              "      <td>80</td>\n",
              "      <td>2023-12-31</td>\n",
              "      <td>2021-07-25</td>\n",
              "      <td>2.435616</td>\n",
              "      <td>\"call\"</td>\n",
              "    </tr>\n",
              "    <tr>\n",
              "      <th>3</th>\n",
              "      <td>0.05</td>\n",
              "      <td>200</td>\n",
              "      <td>0.200</td>\n",
              "      <td>10</td>\n",
              "      <td>2022-05-01</td>\n",
              "      <td>2021-07-25</td>\n",
              "      <td>0.767123</td>\n",
              "      <td>\"put\"</td>\n",
              "    </tr>\n",
              "    <tr>\n",
              "      <th>4</th>\n",
              "      <td>0.06</td>\n",
              "      <td>12</td>\n",
              "      <td>0.100</td>\n",
              "      <td>10</td>\n",
              "      <td>2022-01-01</td>\n",
              "      <td>2021-07-25</td>\n",
              "      <td>0.438356</td>\n",
              "      <td>\"put\"</td>\n",
              "    </tr>\n",
              "    <tr>\n",
              "      <th>5</th>\n",
              "      <td>0.07</td>\n",
              "      <td>100</td>\n",
              "      <td>0.300</td>\n",
              "      <td>80</td>\n",
              "      <td>2023-12-31</td>\n",
              "      <td>2021-07-25</td>\n",
              "      <td>2.435616</td>\n",
              "      <td>\"call\"</td>\n",
              "    </tr>\n",
              "    <tr>\n",
              "      <th>6</th>\n",
              "      <td>0.08</td>\n",
              "      <td>14</td>\n",
              "      <td>0.040</td>\n",
              "      <td>10</td>\n",
              "      <td>2022-05-01</td>\n",
              "      <td>2021-07-25</td>\n",
              "      <td>0.767123</td>\n",
              "      <td>\"call\"</td>\n",
              "    </tr>\n",
              "    <tr>\n",
              "      <th>7</th>\n",
              "      <td>0.09</td>\n",
              "      <td>12</td>\n",
              "      <td>0.030</td>\n",
              "      <td>10</td>\n",
              "      <td>2022-01-01</td>\n",
              "      <td>2021-07-25</td>\n",
              "      <td>0.438356</td>\n",
              "      <td>\"put\"</td>\n",
              "    </tr>\n",
              "    <tr>\n",
              "      <th>8</th>\n",
              "      <td>0.10</td>\n",
              "      <td>100</td>\n",
              "      <td>0.060</td>\n",
              "      <td>80</td>\n",
              "      <td>2023-12-31</td>\n",
              "      <td>2021-07-25</td>\n",
              "      <td>2.435616</td>\n",
              "      <td>\"call\"</td>\n",
              "    </tr>\n",
              "    <tr>\n",
              "      <th>9</th>\n",
              "      <td>0.11</td>\n",
              "      <td>188</td>\n",
              "      <td>0.080</td>\n",
              "      <td>150</td>\n",
              "      <td>2022-05-01</td>\n",
              "      <td>2021-07-25</td>\n",
              "      <td>0.767123</td>\n",
              "      <td>\"call\"</td>\n",
              "    </tr>\n",
              "    <tr>\n",
              "      <th>10</th>\n",
              "      <td>0.12</td>\n",
              "      <td>276</td>\n",
              "      <td>0.030</td>\n",
              "      <td>220</td>\n",
              "      <td>2022-01-01</td>\n",
              "      <td>2021-07-25</td>\n",
              "      <td>0.438356</td>\n",
              "      <td>\"put\"</td>\n",
              "    </tr>\n",
              "    <tr>\n",
              "      <th>11</th>\n",
              "      <td>0.13</td>\n",
              "      <td>364</td>\n",
              "      <td>0.070</td>\n",
              "      <td>290</td>\n",
              "      <td>2023-12-31</td>\n",
              "      <td>2021-07-25</td>\n",
              "      <td>2.435616</td>\n",
              "      <td>\"call\"</td>\n",
              "    </tr>\n",
              "    <tr>\n",
              "      <th>12</th>\n",
              "      <td>0.14</td>\n",
              "      <td>452</td>\n",
              "      <td>0.050</td>\n",
              "      <td>360</td>\n",
              "      <td>2022-05-01</td>\n",
              "      <td>2021-07-25</td>\n",
              "      <td>0.767123</td>\n",
              "      <td>\"call\"</td>\n",
              "    </tr>\n",
              "    <tr>\n",
              "      <th>13</th>\n",
              "      <td>0.15</td>\n",
              "      <td>540</td>\n",
              "      <td>0.060</td>\n",
              "      <td>430</td>\n",
              "      <td>2022-01-01</td>\n",
              "      <td>2021-07-25</td>\n",
              "      <td>0.438356</td>\n",
              "      <td>\"call\"</td>\n",
              "    </tr>\n",
              "    <tr>\n",
              "      <th>14</th>\n",
              "      <td>0.16</td>\n",
              "      <td>628</td>\n",
              "      <td>0.047</td>\n",
              "      <td>500</td>\n",
              "      <td>2023-12-31</td>\n",
              "      <td>2021-07-25</td>\n",
              "      <td>2.435616</td>\n",
              "      <td>\"put\"</td>\n",
              "    </tr>\n",
              "    <tr>\n",
              "      <th>15</th>\n",
              "      <td>0.17</td>\n",
              "      <td>716</td>\n",
              "      <td>0.230</td>\n",
              "      <td>570</td>\n",
              "      <td>2022-05-01</td>\n",
              "      <td>2021-07-25</td>\n",
              "      <td>0.767123</td>\n",
              "      <td>\"put\"</td>\n",
              "    </tr>\n",
              "    <tr>\n",
              "      <th>16</th>\n",
              "      <td>0.18</td>\n",
              "      <td>804</td>\n",
              "      <td>0.211</td>\n",
              "      <td>640</td>\n",
              "      <td>2022-01-01</td>\n",
              "      <td>2021-07-25</td>\n",
              "      <td>0.438356</td>\n",
              "      <td>\"call\"</td>\n",
              "    </tr>\n",
              "    <tr>\n",
              "      <th>17</th>\n",
              "      <td>0.19</td>\n",
              "      <td>892</td>\n",
              "      <td>0.192</td>\n",
              "      <td>710</td>\n",
              "      <td>2023-12-31</td>\n",
              "      <td>2021-07-25</td>\n",
              "      <td>2.435616</td>\n",
              "      <td>\"call\"</td>\n",
              "    </tr>\n",
              "    <tr>\n",
              "      <th>18</th>\n",
              "      <td>0.20</td>\n",
              "      <td>980</td>\n",
              "      <td>0.173</td>\n",
              "      <td>780</td>\n",
              "      <td>2022-05-01</td>\n",
              "      <td>2021-07-25</td>\n",
              "      <td>0.767123</td>\n",
              "      <td>\"put\"</td>\n",
              "    </tr>\n",
              "    <tr>\n",
              "      <th>19</th>\n",
              "      <td>0.21</td>\n",
              "      <td>1068</td>\n",
              "      <td>0.154</td>\n",
              "      <td>850</td>\n",
              "      <td>2022-01-01</td>\n",
              "      <td>2021-07-25</td>\n",
              "      <td>0.438356</td>\n",
              "      <td>\"call\"</td>\n",
              "    </tr>\n",
              "    <tr>\n",
              "      <th>20</th>\n",
              "      <td>0.22</td>\n",
              "      <td>1156</td>\n",
              "      <td>0.135</td>\n",
              "      <td>920</td>\n",
              "      <td>2022-05-01</td>\n",
              "      <td>2021-07-25</td>\n",
              "      <td>0.767123</td>\n",
              "      <td>\"call\"</td>\n",
              "    </tr>\n",
              "    <tr>\n",
              "      <th>21</th>\n",
              "      <td>0.23</td>\n",
              "      <td>1244</td>\n",
              "      <td>0.116</td>\n",
              "      <td>990</td>\n",
              "      <td>2022-01-01</td>\n",
              "      <td>2021-07-25</td>\n",
              "      <td>0.438356</td>\n",
              "      <td>\"put\"</td>\n",
              "    </tr>\n",
              "    <tr>\n",
              "      <th>22</th>\n",
              "      <td>0.24</td>\n",
              "      <td>1332</td>\n",
              "      <td>0.097</td>\n",
              "      <td>1060</td>\n",
              "      <td>2022-05-01</td>\n",
              "      <td>2021-07-25</td>\n",
              "      <td>0.767123</td>\n",
              "      <td>\"call\"</td>\n",
              "    </tr>\n",
              "    <tr>\n",
              "      <th>23</th>\n",
              "      <td>0.25</td>\n",
              "      <td>1420</td>\n",
              "      <td>0.078</td>\n",
              "      <td>1130</td>\n",
              "      <td>2022-01-01</td>\n",
              "      <td>2021-07-25</td>\n",
              "      <td>0.438356</td>\n",
              "      <td>\"put\"</td>\n",
              "    </tr>\n",
              "    <tr>\n",
              "      <th>24</th>\n",
              "      <td>0.26</td>\n",
              "      <td>1508</td>\n",
              "      <td>0.059</td>\n",
              "      <td>1200</td>\n",
              "      <td>2023-12-31</td>\n",
              "      <td>2021-07-25</td>\n",
              "      <td>2.435616</td>\n",
              "      <td>\"put\"</td>\n",
              "    </tr>\n",
              "  </tbody>\n",
              "</table>\n",
              "</div>"
            ],
            "text/plain": [
              "    무위험이자율  행사가격  기초자산의 변동성  ...       현재시점         T option_type\n",
              "0     0.05    14      0.200  ... 2021-07-25  0.767123      \"call\"\n",
              "1     0.10    12      0.030  ... 2021-07-25  0.438356      \"call\"\n",
              "2     0.04   100      0.300  ... 2021-07-25  2.435616      \"call\"\n",
              "3     0.05   200      0.200  ... 2021-07-25  0.767123       \"put\"\n",
              "4     0.06    12      0.100  ... 2021-07-25  0.438356       \"put\"\n",
              "5     0.07   100      0.300  ... 2021-07-25  2.435616      \"call\"\n",
              "6     0.08    14      0.040  ... 2021-07-25  0.767123      \"call\"\n",
              "7     0.09    12      0.030  ... 2021-07-25  0.438356       \"put\"\n",
              "8     0.10   100      0.060  ... 2021-07-25  2.435616      \"call\"\n",
              "9     0.11   188      0.080  ... 2021-07-25  0.767123      \"call\"\n",
              "10    0.12   276      0.030  ... 2021-07-25  0.438356       \"put\"\n",
              "11    0.13   364      0.070  ... 2021-07-25  2.435616      \"call\"\n",
              "12    0.14   452      0.050  ... 2021-07-25  0.767123      \"call\"\n",
              "13    0.15   540      0.060  ... 2021-07-25  0.438356      \"call\"\n",
              "14    0.16   628      0.047  ... 2021-07-25  2.435616       \"put\"\n",
              "15    0.17   716      0.230  ... 2021-07-25  0.767123       \"put\"\n",
              "16    0.18   804      0.211  ... 2021-07-25  0.438356      \"call\"\n",
              "17    0.19   892      0.192  ... 2021-07-25  2.435616      \"call\"\n",
              "18    0.20   980      0.173  ... 2021-07-25  0.767123       \"put\"\n",
              "19    0.21  1068      0.154  ... 2021-07-25  0.438356      \"call\"\n",
              "20    0.22  1156      0.135  ... 2021-07-25  0.767123      \"call\"\n",
              "21    0.23  1244      0.116  ... 2021-07-25  0.438356       \"put\"\n",
              "22    0.24  1332      0.097  ... 2021-07-25  0.767123      \"call\"\n",
              "23    0.25  1420      0.078  ... 2021-07-25  0.438356       \"put\"\n",
              "24    0.26  1508      0.059  ... 2021-07-25  2.435616       \"put\"\n",
              "\n",
              "[25 rows x 8 columns]"
            ]
          },
          "metadata": {
            "tags": []
          },
          "execution_count": 50
        }
      ]
    },
    {
      "cell_type": "code",
      "metadata": {
        "id": "r3BaPj-vd_Pv"
      },
      "source": [
        "def europian_options(S, K, r, T, sigma, option_types):\n",
        "  \n",
        "  d1 = (np.log(S / K) + (r + 0.5 * sigma ** 2) * T) / (sigma * np.sqrt(T))\n",
        "  d2 = d1 - sigma * np.sqrt(T)\n",
        "\n",
        "  if option_types == \"call\":\n",
        "    V = S * stat.norm.cdf(d1) - K * np.exp(-r * T) * stat.norm.cdf(d2)\n",
        "  else:\n",
        "    V = K * np.exp(-r * T) * stat.norm.cdf(-d2) - S * stat.norm.cdf(-d1)\n",
        "\n",
        "  return V"
      ],
      "execution_count": 51,
      "outputs": []
    },
    {
      "cell_type": "code",
      "metadata": {
        "id": "D2qUDRYveAmh"
      },
      "source": [
        "for n in range(option_data.shape[0]):\n",
        "  r = option_data.iloc[n,0]\n",
        "  K = option_data.iloc[n,1]\n",
        "  sigma = option_data.iloc[n,2]\n",
        "  S = option_data.iloc[n,3]\n",
        "  T = option_data.iloc[n,6]\n",
        "  option_type = option_data.iloc[n,7]\n",
        "  price_data = europian_options(S, K, r, T, sigma, option_type)\n",
        "  price_data_list = [price_data]\n",
        "  sheet.cell(row=n+2, column=9).value = price_data\n",
        "\n",
        "sheet['I1'] = '옵션 가격'\n",
        "wb.save('test_result.xlsx')"
      ],
      "execution_count": 53,
      "outputs": []
    }
  ]
}